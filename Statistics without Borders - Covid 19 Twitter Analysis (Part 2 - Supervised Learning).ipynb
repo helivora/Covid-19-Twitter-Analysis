{
 "cells": [
  {
   "cell_type": "markdown",
   "metadata": {},
   "source": [
    "# Statistics Without Borders - Covid 19 Twitter Analysis\n",
    "\n",
    "Author: Heli Vora\n",
    "Date: 5/23/2020"
   ]
  },
  {
   "cell_type": "markdown",
   "metadata": {},
   "source": [
    "# Part 2\n",
    "\n",
    "Using supervised learning to classify already annonated tweets:"
   ]
  },
  {
   "cell_type": "markdown",
   "metadata": {},
   "source": [
    "### 1. Data Loading and Collection"
   ]
  },
  {
   "cell_type": "code",
   "execution_count": 2,
   "metadata": {},
   "outputs": [],
   "source": [
    "import pandas as pd\n",
    "import numpy as np\n",
    "import pickle\n",
    "import keras\n",
    "from keras.preprocessing.text import Tokenizer\n",
    "from keras.models import Sequential, Model\n",
    "from keras.layers import Activation, Dense, Dropout\n",
    "from sklearn.preprocessing import LabelBinarizer\n",
    "import sklearn.datasets as skds\n",
    "from pathlib import Path\n",
    "import matplotlib.pyplot as plt\n",
    "import itertools\n",
    "from sklearn.metrics import confusion_matrix\n",
    "# For reproducibility\n",
    "np.random.seed(1237)\n",
    "import warnings; warnings.simplefilter('ignore')\n"
   ]
  },
  {
   "cell_type": "code",
   "execution_count": 3,
   "metadata": {},
   "outputs": [
    {
     "data": {
      "text/html": [
       "<div>\n",
       "<style scoped>\n",
       "    .dataframe tbody tr th:only-of-type {\n",
       "        vertical-align: middle;\n",
       "    }\n",
       "\n",
       "    .dataframe tbody tr th {\n",
       "        vertical-align: top;\n",
       "    }\n",
       "\n",
       "    .dataframe thead th {\n",
       "        text-align: right;\n",
       "    }\n",
       "</style>\n",
       "<table border=\"1\" class=\"dataframe\">\n",
       "  <thead>\n",
       "    <tr style=\"text-align: right;\">\n",
       "      <th></th>\n",
       "      <th>X1</th>\n",
       "      <th>id</th>\n",
       "      <th>FINAL_LABEL</th>\n",
       "      <th>text</th>\n",
       "    </tr>\n",
       "  </thead>\n",
       "  <tbody>\n",
       "    <tr>\n",
       "      <th>0</th>\n",
       "      <td>0</td>\n",
       "      <td>1.251010e+18</td>\n",
       "      <td>IRRELEVANT</td>\n",
       "      <td>If ya chick ain't answering face time n she no...</td>\n",
       "    </tr>\n",
       "    <tr>\n",
       "      <th>1</th>\n",
       "      <td>12</td>\n",
       "      <td>1.248690e+18</td>\n",
       "      <td>IRRELEVANT</td>\n",
       "      <td>🙌🏾🙌🏾🙌🏾 Black organizers and youth are on the f...</td>\n",
       "    </tr>\n",
       "    <tr>\n",
       "      <th>2</th>\n",
       "      <td>15</td>\n",
       "      <td>1.249760e+18</td>\n",
       "      <td>IRRELEVANT</td>\n",
       "      <td>😩🗣If I see dis shit 1 more Time Wtf is 13/04/2...</td>\n",
       "    </tr>\n",
       "    <tr>\n",
       "      <th>3</th>\n",
       "      <td>19</td>\n",
       "      <td>1.249340e+18</td>\n",
       "      <td>IRRELEVANT</td>\n",
       "      <td>😂😂😂😂😭....man i know some body that does this i...</td>\n",
       "    </tr>\n",
       "    <tr>\n",
       "      <th>4</th>\n",
       "      <td>22</td>\n",
       "      <td>1.250110e+18</td>\n",
       "      <td>IRRELEVANT</td>\n",
       "      <td>😂😂😂 It’s Giving Call of Duty Sis 😂 Let Me Get ...</td>\n",
       "    </tr>\n",
       "  </tbody>\n",
       "</table>\n",
       "</div>"
      ],
      "text/plain": [
       "   X1            id FINAL_LABEL  \\\n",
       "0   0  1.251010e+18  IRRELEVANT   \n",
       "1  12  1.248690e+18  IRRELEVANT   \n",
       "2  15  1.249760e+18  IRRELEVANT   \n",
       "3  19  1.249340e+18  IRRELEVANT   \n",
       "4  22  1.250110e+18  IRRELEVANT   \n",
       "\n",
       "                                                text  \n",
       "0  If ya chick ain't answering face time n she no...  \n",
       "1  🙌🏾🙌🏾🙌🏾 Black organizers and youth are on the f...  \n",
       "2  😩🗣If I see dis shit 1 more Time Wtf is 13/04/2...  \n",
       "3  😂😂😂😂😭....man i know some body that does this i...  \n",
       "4  😂😂😂 It’s Giving Call of Duty Sis 😂 Let Me Get ...  "
      ]
     },
     "execution_count": 3,
     "metadata": {},
     "output_type": "execute_result"
    }
   ],
   "source": [
    "#Loading client labelled data\n",
    "df_test = pd.read_csv(\"client_labels_test.csv\")\n",
    "df_test.head(5)\n",
    "\n"
   ]
  },
  {
   "cell_type": "code",
   "execution_count": 4,
   "metadata": {},
   "outputs": [
    {
     "data": {
      "text/html": [
       "<div>\n",
       "<style scoped>\n",
       "    .dataframe tbody tr th:only-of-type {\n",
       "        vertical-align: middle;\n",
       "    }\n",
       "\n",
       "    .dataframe tbody tr th {\n",
       "        vertical-align: top;\n",
       "    }\n",
       "\n",
       "    .dataframe thead th {\n",
       "        text-align: right;\n",
       "    }\n",
       "</style>\n",
       "<table border=\"1\" class=\"dataframe\">\n",
       "  <thead>\n",
       "    <tr style=\"text-align: right;\">\n",
       "      <th></th>\n",
       "      <th>X1</th>\n",
       "      <th>id</th>\n",
       "      <th>FINAL_LABEL</th>\n",
       "      <th>text</th>\n",
       "    </tr>\n",
       "  </thead>\n",
       "  <tbody>\n",
       "    <tr>\n",
       "      <th>0</th>\n",
       "      <td>1</td>\n",
       "      <td>1.251010e+18</td>\n",
       "      <td>IRRELEVANT</td>\n",
       "      <td>i saw someone under that tweet say “nO tAxeS n...</td>\n",
       "    </tr>\n",
       "    <tr>\n",
       "      <th>1</th>\n",
       "      <td>2</td>\n",
       "      <td>1.250140e+18</td>\n",
       "      <td>RELEVANT</td>\n",
       "      <td>🧟‍♂️ \\nScientists Confirm First Case of COVID-...</td>\n",
       "    </tr>\n",
       "    <tr>\n",
       "      <th>2</th>\n",
       "      <td>3</td>\n",
       "      <td>1.250960e+18</td>\n",
       "      <td>IRRELEVANT</td>\n",
       "      <td>“The new requirements are bound to make face c...</td>\n",
       "    </tr>\n",
       "    <tr>\n",
       "      <th>3</th>\n",
       "      <td>4</td>\n",
       "      <td>1.250830e+18</td>\n",
       "      <td>IRRELEVANT</td>\n",
       "      <td>NaN</td>\n",
       "    </tr>\n",
       "    <tr>\n",
       "      <th>4</th>\n",
       "      <td>5</td>\n",
       "      <td>1.248700e+18</td>\n",
       "      <td>IRRELEVANT</td>\n",
       "      <td>🚨ATTENTION #SmallBizDC Community🚨\\nJoin DSLBD ...</td>\n",
       "    </tr>\n",
       "  </tbody>\n",
       "</table>\n",
       "</div>"
      ],
      "text/plain": [
       "   X1            id FINAL_LABEL  \\\n",
       "0   1  1.251010e+18  IRRELEVANT   \n",
       "1   2  1.250140e+18    RELEVANT   \n",
       "2   3  1.250960e+18  IRRELEVANT   \n",
       "3   4  1.250830e+18  IRRELEVANT   \n",
       "4   5  1.248700e+18  IRRELEVANT   \n",
       "\n",
       "                                                text  \n",
       "0  i saw someone under that tweet say “nO tAxeS n...  \n",
       "1  🧟‍♂️ \\nScientists Confirm First Case of COVID-...  \n",
       "2  “The new requirements are bound to make face c...  \n",
       "3                                                NaN  \n",
       "4  🚨ATTENTION #SmallBizDC Community🚨\\nJoin DSLBD ...  "
      ]
     },
     "execution_count": 4,
     "metadata": {},
     "output_type": "execute_result"
    }
   ],
   "source": [
    "df_train = pd.read_csv(\"client_labels_train.csv\")\n",
    "df_train.head(5)\n"
   ]
  },
  {
   "cell_type": "markdown",
   "metadata": {},
   "source": [
    "I am combining the test and the train set so we could later use cross validation to split data"
   ]
  },
  {
   "cell_type": "code",
   "execution_count": 5,
   "metadata": {},
   "outputs": [
    {
     "data": {
      "text/plain": [
       "(511, 4)"
      ]
     },
     "execution_count": 5,
     "metadata": {},
     "output_type": "execute_result"
    }
   ],
   "source": [
    "df_all = df_train.append(df_test)\n",
    "df_all.shape\n"
   ]
  },
  {
   "cell_type": "code",
   "execution_count": 6,
   "metadata": {},
   "outputs": [],
   "source": [
    "df_all.drop(['X1','id'], axis = 1, inplace = True)"
   ]
  },
  {
   "cell_type": "code",
   "execution_count": 7,
   "metadata": {},
   "outputs": [
    {
     "data": {
      "text/html": [
       "<div>\n",
       "<style scoped>\n",
       "    .dataframe tbody tr th:only-of-type {\n",
       "        vertical-align: middle;\n",
       "    }\n",
       "\n",
       "    .dataframe tbody tr th {\n",
       "        vertical-align: top;\n",
       "    }\n",
       "\n",
       "    .dataframe thead th {\n",
       "        text-align: right;\n",
       "    }\n",
       "</style>\n",
       "<table border=\"1\" class=\"dataframe\">\n",
       "  <thead>\n",
       "    <tr style=\"text-align: right;\">\n",
       "      <th></th>\n",
       "      <th>FINAL_LABEL</th>\n",
       "      <th>text</th>\n",
       "    </tr>\n",
       "  </thead>\n",
       "  <tbody>\n",
       "    <tr>\n",
       "      <th>0</th>\n",
       "      <td>IRRELEVANT</td>\n",
       "      <td>i saw someone under that tweet say “nO tAxeS n...</td>\n",
       "    </tr>\n",
       "    <tr>\n",
       "      <th>1</th>\n",
       "      <td>RELEVANT</td>\n",
       "      <td>🧟‍♂️ \\nScientists Confirm First Case of COVID-...</td>\n",
       "    </tr>\n",
       "    <tr>\n",
       "      <th>2</th>\n",
       "      <td>IRRELEVANT</td>\n",
       "      <td>“The new requirements are bound to make face c...</td>\n",
       "    </tr>\n",
       "    <tr>\n",
       "      <th>3</th>\n",
       "      <td>IRRELEVANT</td>\n",
       "      <td>NaN</td>\n",
       "    </tr>\n",
       "    <tr>\n",
       "      <th>4</th>\n",
       "      <td>IRRELEVANT</td>\n",
       "      <td>🚨ATTENTION #SmallBizDC Community🚨\\nJoin DSLBD ...</td>\n",
       "    </tr>\n",
       "  </tbody>\n",
       "</table>\n",
       "</div>"
      ],
      "text/plain": [
       "  FINAL_LABEL                                               text\n",
       "0  IRRELEVANT  i saw someone under that tweet say “nO tAxeS n...\n",
       "1    RELEVANT  🧟‍♂️ \\nScientists Confirm First Case of COVID-...\n",
       "2  IRRELEVANT  “The new requirements are bound to make face c...\n",
       "3  IRRELEVANT                                                NaN\n",
       "4  IRRELEVANT  🚨ATTENTION #SmallBizDC Community🚨\\nJoin DSLBD ..."
      ]
     },
     "execution_count": 7,
     "metadata": {},
     "output_type": "execute_result"
    }
   ],
   "source": [
    "df_all.head(5)\n"
   ]
  },
  {
   "cell_type": "markdown",
   "metadata": {},
   "source": [
    "### 2. Data Cleansing"
   ]
  },
  {
   "cell_type": "markdown",
   "metadata": {},
   "source": [
    "Using our user defined function to clean the tweets, remove emojis, hyperlinks, urls etc, deleting duplicates, removing nones\n"
   ]
  },
  {
   "cell_type": "code",
   "execution_count": 8,
   "metadata": {},
   "outputs": [],
   "source": [
    "###Not removing Numbers to capture covid 19, percentage rate etcs\n",
    "\n",
    "\n",
    "## Removing HTML encoding\n",
    "import re\n",
    "from nltk.tokenize import WordPunctTokenizer\n",
    "tok = WordPunctTokenizer()\n",
    "pat1 = r'@[A-Za-z0-9]+'\n",
    "pat2 = r'https?://[A-Za-z0-9./]+'\n",
    "combined_pat = r'|'.join((pat1, pat2))\n",
    "\n",
    "def tweet_cleaner(text):\n",
    "    stripped = re.sub(combined_pat, '', str(text))\n",
    "    try:\n",
    "        clean = stripped.decode(\"utf-8-sig\").replace(u\"\\ufffd\", \"?\")\n",
    "    except:\n",
    "        clean = stripped\n",
    "    letters_only = re.sub(\"[^a-zA-Z0-9]\", \" \", clean)\n",
    "    lower_case = letters_only.lower()\n",
    "    # During the letters_only process two lines above, it has created unnecessay white spaces,\n",
    "    # I will tokenize and join together to remove unneccessary white spaces\n",
    "    words = tok.tokenize(lower_case)\n",
    "    return (\" \".join(words)).strip()\n",
    "\n",
    "\n",
    "testing = df_all['text']\n",
    "\n",
    "test_result = []\n",
    "for t in testing:\n",
    "    test_result.append(tweet_cleaner(t))"
   ]
  },
  {
   "cell_type": "code",
   "execution_count": 9,
   "metadata": {},
   "outputs": [],
   "source": [
    "df_all['clean_text'] = df_all['text'].apply(lambda x : tweet_cleaner(x))    "
   ]
  },
  {
   "cell_type": "code",
   "execution_count": 10,
   "metadata": {},
   "outputs": [
    {
     "data": {
      "text/html": [
       "<div>\n",
       "<style scoped>\n",
       "    .dataframe tbody tr th:only-of-type {\n",
       "        vertical-align: middle;\n",
       "    }\n",
       "\n",
       "    .dataframe tbody tr th {\n",
       "        vertical-align: top;\n",
       "    }\n",
       "\n",
       "    .dataframe thead th {\n",
       "        text-align: right;\n",
       "    }\n",
       "</style>\n",
       "<table border=\"1\" class=\"dataframe\">\n",
       "  <thead>\n",
       "    <tr style=\"text-align: right;\">\n",
       "      <th></th>\n",
       "      <th>FINAL_LABEL</th>\n",
       "      <th>clean_text</th>\n",
       "    </tr>\n",
       "  </thead>\n",
       "  <tbody>\n",
       "    <tr>\n",
       "      <th>0</th>\n",
       "      <td>IRRELEVANT</td>\n",
       "      <td>i saw someone under that tweet say no taxes no...</td>\n",
       "    </tr>\n",
       "    <tr>\n",
       "      <th>1</th>\n",
       "      <td>RELEVANT</td>\n",
       "      <td>scientists confirm first case of covid 19 tran...</td>\n",
       "    </tr>\n",
       "    <tr>\n",
       "      <th>2</th>\n",
       "      <td>IRRELEVANT</td>\n",
       "      <td>the new requirements are bound to make face co...</td>\n",
       "    </tr>\n",
       "    <tr>\n",
       "      <th>3</th>\n",
       "      <td>IRRELEVANT</td>\n",
       "      <td>nan</td>\n",
       "    </tr>\n",
       "    <tr>\n",
       "      <th>4</th>\n",
       "      <td>IRRELEVANT</td>\n",
       "      <td>attention smallbizdc community join dslbd and ...</td>\n",
       "    </tr>\n",
       "  </tbody>\n",
       "</table>\n",
       "</div>"
      ],
      "text/plain": [
       "  FINAL_LABEL                                         clean_text\n",
       "0  IRRELEVANT  i saw someone under that tweet say no taxes no...\n",
       "1    RELEVANT  scientists confirm first case of covid 19 tran...\n",
       "2  IRRELEVANT  the new requirements are bound to make face co...\n",
       "3  IRRELEVANT                                                nan\n",
       "4  IRRELEVANT  attention smallbizdc community join dslbd and ..."
      ]
     },
     "execution_count": 10,
     "metadata": {},
     "output_type": "execute_result"
    }
   ],
   "source": [
    "df_all.drop(['text'], axis = 1, inplace = True)\n",
    "df_all.head(5)"
   ]
  },
  {
   "cell_type": "code",
   "execution_count": 11,
   "metadata": {},
   "outputs": [
    {
     "data": {
      "text/plain": [
       "(469, 2)"
      ]
     },
     "execution_count": 11,
     "metadata": {},
     "output_type": "execute_result"
    }
   ],
   "source": [
    "df_all_clean = df_all[df_all.clean_text != 'nan']\n",
    "df_all_clean.shape"
   ]
  },
  {
   "cell_type": "markdown",
   "metadata": {},
   "source": [
    "### 3. Exploratory Data Analysis"
   ]
  },
  {
   "cell_type": "markdown",
   "metadata": {},
   "source": [
    "Checking for number of tweets in each category"
   ]
  },
  {
   "cell_type": "code",
   "execution_count": 12,
   "metadata": {},
   "outputs": [
    {
     "data": {
      "image/png": "[encoded data removed]",
      "text/plain": [
       "<Figure size 576x432 with 1 Axes>"
      ]
     },
     "metadata": {
      "needs_background": "light"
     },
     "output_type": "display_data"
    }
   ],
   "source": [
    "fig = plt.figure(figsize=(8,6))\n",
    "colors = ['darkblue','darkblue']\n",
    "df_all_clean.groupby('FINAL_LABEL').clean_text.count().sort_values().plot.barh(\n",
    "    ylim=0, color=colors, title= 'NUMBER OF TWEETS IN EACH CATEGORY\\n')\n",
    "plt.xlabel('Number of ocurrences', fontsize = 10);\n",
    "\n"
   ]
  },
  {
   "cell_type": "code",
   "execution_count": 13,
   "metadata": {},
   "outputs": [
    {
     "data": {
      "text/html": [
       "<div>\n",
       "<style scoped>\n",
       "    .dataframe tbody tr th:only-of-type {\n",
       "        vertical-align: middle;\n",
       "    }\n",
       "\n",
       "    .dataframe tbody tr th {\n",
       "        vertical-align: top;\n",
       "    }\n",
       "\n",
       "    .dataframe thead th {\n",
       "        text-align: right;\n",
       "    }\n",
       "</style>\n",
       "<table border=\"1\" class=\"dataframe\">\n",
       "  <thead>\n",
       "    <tr style=\"text-align: right;\">\n",
       "      <th></th>\n",
       "      <th>FINAL_LABEL</th>\n",
       "      <th>clean_text</th>\n",
       "    </tr>\n",
       "  </thead>\n",
       "  <tbody>\n",
       "    <tr>\n",
       "      <th>0</th>\n",
       "      <td>IRRELEVANT</td>\n",
       "      <td>i saw someone under that tweet say no taxes no...</td>\n",
       "    </tr>\n",
       "    <tr>\n",
       "      <th>1</th>\n",
       "      <td>RELEVANT</td>\n",
       "      <td>scientists confirm first case of covid 19 tran...</td>\n",
       "    </tr>\n",
       "    <tr>\n",
       "      <th>2</th>\n",
       "      <td>IRRELEVANT</td>\n",
       "      <td>the new requirements are bound to make face co...</td>\n",
       "    </tr>\n",
       "    <tr>\n",
       "      <th>4</th>\n",
       "      <td>IRRELEVANT</td>\n",
       "      <td>attention smallbizdc community join dslbd and ...</td>\n",
       "    </tr>\n",
       "    <tr>\n",
       "      <th>5</th>\n",
       "      <td>IRRELEVANT</td>\n",
       "      <td>and i want my face in some pussy</td>\n",
       "    </tr>\n",
       "  </tbody>\n",
       "</table>\n",
       "</div>"
      ],
      "text/plain": [
       "  FINAL_LABEL                                         clean_text\n",
       "0  IRRELEVANT  i saw someone under that tweet say no taxes no...\n",
       "1    RELEVANT  scientists confirm first case of covid 19 tran...\n",
       "2  IRRELEVANT  the new requirements are bound to make face co...\n",
       "4  IRRELEVANT  attention smallbizdc community join dslbd and ...\n",
       "5  IRRELEVANT                   and i want my face in some pussy"
      ]
     },
     "execution_count": 13,
     "metadata": {},
     "output_type": "execute_result"
    }
   ],
   "source": [
    "df_all_clean.head(5)"
   ]
  },
  {
   "cell_type": "markdown",
   "metadata": {},
   "source": [
    "Splitting into test and train sets"
   ]
  },
  {
   "cell_type": "code",
   "execution_count": 14,
   "metadata": {},
   "outputs": [
    {
     "data": {
      "text/plain": [
       "((365, 2), (104, 2))"
      ]
     },
     "execution_count": 14,
     "metadata": {},
     "output_type": "execute_result"
    }
   ],
   "source": [
    "#Now lets split the data\n",
    "from sklearn.model_selection import train_test_split\n",
    "train, test = train_test_split(df_all_clean, shuffle = True, stratify = df_all_clean.FINAL_LABEL, random_state = 50,test_size=0.22)\n",
    "train.shape, test.shape"
   ]
  },
  {
   "cell_type": "code",
   "execution_count": 15,
   "metadata": {},
   "outputs": [
    {
     "data": {
      "image/png": "[encoded data removed]",
      "text/plain": [
       "<Figure size 576x432 with 1 Axes>"
      ]
     },
     "metadata": {
      "needs_background": "light"
     },
     "output_type": "display_data"
    }
   ],
   "source": [
    "fig = plt.figure(figsize=(8,6))\n",
    "colors = ['darkblue','darkblue']\n",
    "train.groupby('FINAL_LABEL').clean_text.count().sort_values().plot.barh(\n",
    "    ylim=0, color=colors, title= 'NUMBER OF TWEETS IN EACH CATEGORY\\n')\n",
    "plt.xlabel('Number of ocurrences', fontsize = 10);"
   ]
  },
  {
   "cell_type": "code",
   "execution_count": 16,
   "metadata": {},
   "outputs": [
    {
     "data": {
      "image/png": "[encoded data removed]",
      "text/plain": [
       "<Figure size 576x432 with 1 Axes>"
      ]
     },
     "metadata": {
      "needs_background": "light"
     },
     "output_type": "display_data"
    }
   ],
   "source": [
    "fig = plt.figure(figsize=(8,6))\n",
    "colors = ['darkblue','darkblue']\n",
    "test.groupby('FINAL_LABEL').clean_text.count().sort_values().plot.barh(\n",
    "    ylim=0, color=colors, title= 'NUMBER OF TWEETS IN EACH CATEGORY\\n')\n",
    "plt.xlabel('Number of ocurrences', fontsize = 10);"
   ]
  },
  {
   "cell_type": "markdown",
   "metadata": {},
   "source": [
    "We need to ensure that the train and test sets come from the same distribution. We are using adverserial validation to validate this. I am using a simple Bag of WOrds vectorized logistic regression model and then evaluate the AUC"
   ]
  },
  {
   "cell_type": "code",
   "execution_count": 17,
   "metadata": {},
   "outputs": [],
   "source": [
    "# Adverserial Validation\n",
    "from scipy import sparse\n",
    "from sklearn.metrics import roc_auc_score\n",
    "from sklearn.ensemble import RandomForestClassifier\n",
    "from sklearn.linear_model import SGDClassifier\n",
    "from sklearn.model_selection import StratifiedKFold\n",
    "\n",
    "\n",
    "def adversarial_validation(X, Y, n_splits = 10):\n",
    "    \n",
    "    # Combine both datasets\n",
    "    sparse_merge = sparse.vstack((X, Y))\n",
    "    \n",
    "    # Label the datasets\n",
    "    y = np.array([0 for _ in range(X.shape[0])] + [1 for _ in range(Y.shape[0])])\n",
    "    \n",
    "    # Do 10 Fold CV \n",
    "    kfold = StratifiedKFold(n_splits = n_splits, shuffle = True)\n",
    "\n",
    "    lr_auc = np.array([])\n",
    "    rf_auc = np.array([])\n",
    "    for train_idx, test_idx in kfold.split(sparse_merge, y):\n",
    "    \n",
    "        #Run Log Reg\n",
    "        x_train, y_train = sparse_merge[train_idx], y[train_idx]\n",
    "        x_test, y_test = sparse_merge[test_idx], y[test_idx]\n",
    "        \n",
    "        log_reg = SGDClassifier(loss = 'log')\n",
    "        log_reg.fit(x_train, y_train)\n",
    "        y_test_prob = log_reg.predict_proba(x_test)[:,1]\n",
    "        lr_auc = np.append(lr_auc, roc_auc_score(y_test, y_test_prob))\n",
    "        # Run RF\n",
    "        rf = RandomForestClassifier(n_estimators = 100, n_jobs = -1)\n",
    "        rf.fit(x_train, y_train)\n",
    "        y_test_prob = rf.predict_proba(x_test)[:,1]\n",
    "        rf_auc = np.append(rf_auc, roc_auc_score(y_test, y_test_prob))\n",
    "\n",
    "    \n",
    "    # Display results\n",
    "    print('Logisitic Regression AUC : {:.3f}'.format(lr_auc.mean()))\n",
    "    print('Random Forest AUC : {:.3f}'.format(rf_auc.mean())) "
   ]
  },
  {
   "cell_type": "code",
   "execution_count": 18,
   "metadata": {},
   "outputs": [
    {
     "name": "stdout",
     "output_type": "stream",
     "text": [
      "Logisitic Regression AUC : 0.431\n",
      "Random Forest AUC : 0.442\n"
     ]
    }
   ],
   "source": [
    "from sklearn.feature_extraction.text import CountVectorizer\n",
    "\n",
    "bow = CountVectorizer()\n",
    "x_train_a = bow.fit_transform(train.clean_text.values)\n",
    "x_test_a = bow.transform(test.clean_text.values)\n",
    "adversarial_validation(x_train_a, x_test_a[:50])"
   ]
  },
  {
   "cell_type": "markdown",
   "metadata": {},
   "source": [
    "The low AUC values suggest that the train and test set have similar distribution. We can even confirm below that both training and test sets have same % of positive class\n"
   ]
  },
  {
   "cell_type": "code",
   "execution_count": 19,
   "metadata": {},
   "outputs": [
    {
     "name": "stdout",
     "output_type": "stream",
     "text": [
      "Train Positive Class % : 16.7\n",
      "Test Positive Class % : 16.3\n",
      "Train Size: 365\n",
      "Test Size: 104\n"
     ]
    }
   ],
   "source": [
    "print('Train Positive Class % : {:.1f}'.format((sum(train.FINAL_LABEL == 'RELEVANT')/train.shape[0])*100))\n",
    "print('Test Positive Class % : {:.1f}'.format((sum(test.FINAL_LABEL == 'RELEVANT')/test.shape[0])*100))\n",
    "print('Train Size: {}'.format(train.shape[0]))\n",
    "print('Test Size: {}'.format(test.shape[0]))"
   ]
  },
  {
   "cell_type": "markdown",
   "metadata": {},
   "source": [
    "### 4. Fitting various models\n"
   ]
  },
  {
   "cell_type": "markdown",
   "metadata": {},
   "source": [
    "Next, I am going to examin the performance of different models on our dataset. First, I am using a simple logistic model. I am embedding our data using both bag of words method and Tf-idf method to test the performance"
   ]
  },
  {
   "cell_type": "markdown",
   "metadata": {},
   "source": [
    "#### Model 1. Bag of words/Tf-idf + Logistic Regression (Baseline)"
   ]
  },
  {
   "cell_type": "code",
   "execution_count": 20,
   "metadata": {},
   "outputs": [],
   "source": [
    "%matplotlib inline\n",
    "import matplotlib.pyplot as plt\n",
    "from sklearn.metrics import precision_recall_curve, f1_score, accuracy_score, roc_auc_score, confusion_matrix\n",
    "import seaborn as sns\n",
    "sns.set_palette(\"muted\")\n",
    "    \n",
    "\n",
    "def calc_f1(p_and_r):\n",
    "    p, r = p_and_r\n",
    "    return (2*p*r)/(p+r)\n",
    "\n",
    "\n",
    "# Print the F1, Precision, Recall, ROC-AUC, and Accuracy Metrics \n",
    "# Since we are optimizing for F1 score - we will first calculate precision and recall and \n",
    "# then find the probability threshold value that gives us the best F1 score\n",
    "\n",
    "def print_model_metrics(y_test, y_test_prob, confusion = False, verbose = True, return_metrics = False):\n",
    "\n",
    "    precision, recall, threshold = precision_recall_curve(y_test, y_test_prob, pos_label = 1)\n",
    "    \n",
    "    #Find the threshold value that gives the best F1 Score\n",
    "    best_f1_index =np.argmax([calc_f1(p_r) for p_r in zip(precision, recall)])\n",
    "    best_threshold, best_precision, best_recall = threshold[best_f1_index], precision[best_f1_index], recall[best_f1_index]\n",
    "    \n",
    "    # Calulcate predictions based on the threshold value\n",
    "    y_test_pred = np.where(y_test_prob > best_threshold, 1, 0)\n",
    "    \n",
    "    # Calculate all metrics\n",
    "    f1 = f1_score(y_test, y_test_pred, pos_label = 1, average = 'binary')\n",
    "    roc_auc = roc_auc_score(y_test, y_test_prob)\n",
    "    acc = accuracy_score(y_test, y_test_pred)\n",
    "    \n",
    "    \n",
    "    if confusion:\n",
    "        # Calculate and Display the confusion Matrix\n",
    "        cm = confusion_matrix(y_test, y_test_pred)\n",
    "\n",
    "        plt.title('Confusion Matrix')\n",
    "        sns.set(font_scale=1.0) #for label size\n",
    "        sns.heatmap(cm, annot = True, fmt = 'd', xticklabels = ['No Clickbait', 'Clickbait'], yticklabels = ['No Clickbait', 'Clickbait'], annot_kws={\"size\": 14}, cmap = 'Blues')# font size\n",
    "\n",
    "        plt.xlabel('Truth')\n",
    "        plt.ylabel('Prediction')\n",
    "        \n",
    "    if verbose:\n",
    "        print('F1: {:.3f} | Pr: {:.3f} | Re: {:.3f} | AUC: {:.3f} | Accuracy: {:.3f} \\n'.format(f1, best_precision, best_recall, roc_auc, acc))\n",
    "    \n",
    "    if return_metrics:\n",
    "        return np.array([f1, best_precision, best_recall, roc_auc, acc])\n",
    "    \n",
    "    \n",
    "\n",
    "# Run Simple Log Reg Model and Print metrics\n",
    "from sklearn.linear_model import SGDClassifier\n",
    "\n",
    "# Run log reg 10 times and average the result to reduce predction variance\n",
    "def run_log_reg(train_features, test_features, y_train, y_test,  alpha = 1e-4, confusion = False, return_f1 = False, verbose = True):\n",
    "    metrics = np.zeros(5)\n",
    "    for _ in range(10):\n",
    "        log_reg = SGDClassifier(loss = 'log', alpha = alpha, n_jobs = -1, penalty = 'l2')\n",
    "        log_reg.fit(train_features, y_train)\n",
    "        y_test_prob = log_reg.predict_proba(test_features)[:,1]\n",
    "        metrics += print_model_metrics(y_test, y_test_prob, confusion = confusion, verbose = False, return_metrics = True)\n",
    "    metrics /=10\n",
    "    if verbose:\n",
    "        print('F1: {:.3f} | Pr: {:.3f} | Re: {:.3f} | AUC: {:.3f} | Accuracy: {:.3f} \\n'.format(*metrics))\n",
    "    if return_f1:\n",
    "        return f1\n",
    "    return log_reg"
   ]
  },
  {
   "cell_type": "code",
   "execution_count": 21,
   "metadata": {},
   "outputs": [
    {
     "name": "stdout",
     "output_type": "stream",
     "text": [
      "F1: 0.153 | Pr: 0.156 | Re: 0.194 | AUC: 0.584 | Accuracy: 0.808 \n",
      "\n",
      "F1: 0.000 | Pr: 0.000 | Re: 0.000 | AUC: 0.610 | Accuracy: 0.835 \n",
      "\n"
     ]
    },
    {
     "data": {
      "text/plain": [
       "SGDClassifier(loss='log', n_jobs=-1)"
      ]
     },
     "execution_count": 21,
     "metadata": {},
     "output_type": "execute_result"
    }
   ],
   "source": [
    "y_train = np.where(train.FINAL_LABEL.values == 'RELEVANT', 1, 0)\n",
    "y_test = np.where(test.FINAL_LABEL.values == 'RELEVANT', 1, 0)\n",
    "from sklearn.feature_extraction.text import CountVectorizer, TfidfVectorizer\n",
    "\n",
    "##########LR+Bag of Words\n",
    "bow = CountVectorizer()\n",
    "x_train = bow.fit_transform(train.clean_text.values)\n",
    "x_test = bow.transform(test.clean_text.values)\n",
    "run_log_reg(x_train, x_test, y_train, y_test)\n",
    "\n",
    "############## Logistic Regression + Tfidf \n",
    "from sklearn.feature_extraction.text import TfidfVectorizer\n",
    "tfidf = TfidfVectorizer()\n",
    "x_train = tfidf.fit_transform(train.clean_text.values)\n",
    "x_test = tfidf.transform(test.clean_text.values)\n",
    "run_log_reg(x_train, x_test, y_train, y_test)\n"
   ]
  },
  {
   "cell_type": "markdown",
   "metadata": {},
   "source": [
    "The baseline models aren't doing that great, even though the accuracy is high, it due to the low number of records and imbalanced nature of the dataset. From now on, I will focus on increasing the recall metric i.e. to capture relevant tweets more correctly"
   ]
  },
  {
   "cell_type": "markdown",
   "metadata": {},
   "source": [
    "#### 2. Using Glove Twitter Embeddings to embed the dataset"
   ]
  },
  {
   "cell_type": "markdown",
   "metadata": {},
   "source": [
    "I am going to use GLOVE's twitter embedding to vectorize the tweets. GloVe is an unsupervised learning algorithm for obtaining vector representations for words. Glove is trained on a huge number of tweets already and can help us capture the underlying context in the tweets"
   ]
  },
  {
   "cell_type": "code",
   "execution_count": 22,
   "metadata": {},
   "outputs": [],
   "source": [
    "import gensim.downloader as api\n",
    "glove_twitter = api.load(\"glove-twitter-200\")"
   ]
  },
  {
   "cell_type": "code",
   "execution_count": 23,
   "metadata": {},
   "outputs": [],
   "source": [
    "def get_w2v_general(tweet, size, vectors, aggregation='mean'):\n",
    "    vec = np.zeros(size).reshape((1, size))\n",
    "    count = 0.\n",
    "    for word in tweet.split():\n",
    "        try:\n",
    "            vec += vectors[word].reshape((1, size))\n",
    "            count += 1.\n",
    "        except KeyError:\n",
    "            continue\n",
    "    if aggregation == 'mean':\n",
    "        if count != 0:\n",
    "            vec /= count\n",
    "        return vec\n",
    "    elif aggregation == 'sum':\n",
    "        return vec"
   ]
  },
  {
   "cell_type": "code",
   "execution_count": 24,
   "metadata": {},
   "outputs": [
    {
     "name": "stdout",
     "output_type": "stream",
     "text": [
      "F1: 0.384 | Pr: 0.283 | Re: 0.788 | AUC: 0.696 | Accuracy: 0.618 \n",
      "\n"
     ]
    },
    {
     "data": {
      "text/plain": [
       "SGDClassifier(loss='log', n_jobs=-1)"
      ]
     },
     "execution_count": 24,
     "metadata": {},
     "output_type": "execute_result"
    }
   ],
   "source": [
    "from tqdm import tqdm_notebook\n",
    "from nltk import word_tokenize\n",
    "from sklearn.preprocessing import scale\n",
    "from pymagnitude import *\n",
    "#glove = Magnitude(\"./vectors/glove.6B.50d.magnitude\")\n",
    "#\n",
    "x_train_g = scale(np.concatenate([get_w2v_general(z, 200, glove_twitter,'mean') for z in train.clean_text.values])\n",
    "               )\n",
    "x_test_g =scale(np.concatenate([get_w2v_general(z, 200, glove_twitter,'mean') for z in test.clean_text.values])\n",
    "               )\n",
    "run_log_reg(x_train_g, x_test_g, y_train, y_test)"
   ]
  },
  {
   "cell_type": "markdown",
   "metadata": {},
   "source": [
    "Here we can see some improvements from the baseline in terms of precision and recall. However, it could still be improved. Once of the major problem we are facing is that the dataset is imbalanced, only 17% of the data is relevant. Next, I am going to use SMOTE to upsample the minority class to make the data somewhat evenly distributed."
   ]
  },
  {
   "cell_type": "code",
   "execution_count": 25,
   "metadata": {},
   "outputs": [],
   "source": [
    "from imblearn.over_sampling import SMOTE \n",
    "sm = SMOTE(random_state = 0) \n",
    "X_train_res, y_train_res = sm.fit_sample(x_train_g, y_train)"
   ]
  },
  {
   "cell_type": "code",
   "execution_count": 26,
   "metadata": {},
   "outputs": [
    {
     "data": {
      "text/plain": [
       "(608, 200)"
      ]
     },
     "execution_count": 26,
     "metadata": {},
     "output_type": "execute_result"
    }
   ],
   "source": [
    "X_train_res.shape"
   ]
  },
  {
   "cell_type": "code",
   "execution_count": 27,
   "metadata": {},
   "outputs": [
    {
     "data": {
      "text/plain": [
       "(608,)"
      ]
     },
     "execution_count": 27,
     "metadata": {},
     "output_type": "execute_result"
    }
   ],
   "source": [
    "y_train_res.shape"
   ]
  },
  {
   "cell_type": "code",
   "execution_count": 28,
   "metadata": {},
   "outputs": [
    {
     "data": {
      "text/plain": [
       "{0: 304, 1: 304}"
      ]
     },
     "execution_count": 28,
     "metadata": {},
     "output_type": "execute_result"
    }
   ],
   "source": [
    "unique, counts = np.unique(y_train_res, return_counts=True)\n",
    "dict(zip(unique, counts))"
   ]
  },
  {
   "cell_type": "markdown",
   "metadata": {},
   "source": [
    "We can see that smote has synthetically created records to make the classes balanced"
   ]
  },
  {
   "cell_type": "markdown",
   "metadata": {},
   "source": [
    "Now that we have applied GLOVE embeddings and SMOTE, I am going to train three different models that are tuned using Grid Search Cross Validation. My goal is not just to improve accuracy but to capture as many relevant tweets correctly as we can"
   ]
  },
  {
   "cell_type": "markdown",
   "metadata": {},
   "source": [
    "#### Model 4 : SMOTE + Tuned Logistics Regression using Grid Search "
   ]
  },
  {
   "cell_type": "code",
   "execution_count": 29,
   "metadata": {},
   "outputs": [],
   "source": [
    "from sklearn.model_selection import GridSearchCV, PredefinedSplit\n",
    "from sklearn.metrics import make_scorer\n",
    "from scipy import sparse\n",
    "\n",
    "\n",
    "# Create a new skelarn 'scorer' that uses our print_model_metrics function\n",
    "def adjusted_f1(y_true, y_prob):\n",
    "    f1 = print_model_metrics(y_true, y_prob, verbose = 0, return_metrics = True)[0]\n",
    "    return f1\n",
    "    \n",
    "score = make_scorer(adjusted_f1, greater_is_better = True, needs_proba = True)\n",
    "\n",
    "\n",
    "\n",
    "# Since we want to use a predefined Test/Val set, we'll use PredefinedSplit and pass it as the CV parameter\n",
    "# We need to merge both the datasets and label 0 for test and -1 for the train set\n",
    "\n",
    "X = sparse.vstack((X_train_res, x_test_g))\n",
    "test_fold = [-1 for _ in range(X_train_res.shape[0])] + [0 for _ in range(x_test.shape[0])]\n",
    "y = np.concatenate([y_train_res, y_test])\n",
    "ps = PredefinedSplit(test_fold)\n",
    "\n",
    "def run_grid_search(model, params, x_train, y_train):\n",
    "    grid = GridSearchCV(model, params, cv = ps, scoring = score, verbose = 0, refit = False)\n",
    "    grid.fit(x_train, y_train)\n",
    "    return (grid.best_params_, grid.best_score_)"
   ]
  },
  {
   "cell_type": "markdown",
   "metadata": {},
   "source": [
    "##### 1. SMOTE + Tuned Logistic Regression"
   ]
  },
  {
   "cell_type": "code",
   "execution_count": 30,
   "metadata": {},
   "outputs": [
    {
     "name": "stdout",
     "output_type": "stream",
     "text": [
      "Best Parameters : {'alpha': 0.01, 'l1_ratio': 0.25, 'penalty': 'l1'}\n",
      "F1: 0.000 | Pr: 0.000 | Re: 0.000 | AUC: 0.699 | Accuracy: 0.837 \n",
      "\n"
     ]
    }
   ],
   "source": [
    "from sklearn.linear_model import SGDClassifier\n",
    "lr = SGDClassifier(loss = 'log')\n",
    "lr_params = {'alpha' : [10**(-x) for x in range(7)],\n",
    "             'penalty' : ['l1', 'l2', 'elasticnet'],\n",
    "             'l1_ratio' : [0.15, 0.25, 0.5, 0.75]}\n",
    "best_params, best_f1 = run_grid_search(lr, lr_params, X, y)\n",
    "print('Best Parameters : {}'.format(best_params))\n",
    "lr = SGDClassifier(loss = 'log', \n",
    "                   alpha = best_params['alpha'], \n",
    "                   penalty = best_params['penalty'], \n",
    "                   l1_ratio = best_params['l1_ratio'])\n",
    "lr.fit(X_train_res, y_train_res)\n",
    "lr_test_prob = lr.predict_proba(x_test_g)[:,1]\n",
    "print_model_metrics(y_test, lr_test_prob)"
   ]
  },
  {
   "cell_type": "code",
   "execution_count": 31,
   "metadata": {},
   "outputs": [],
   "source": [
    "y_pred_lr = np.where(lr_test_prob>0.5,1,0)"
   ]
  },
  {
   "cell_type": "code",
   "execution_count": 32,
   "metadata": {},
   "outputs": [
    {
     "data": {
      "text/plain": [
       "Text(0.5, 1, 'CONFUSION MATRIX - LinearSVC\\n')"
      ]
     },
     "execution_count": 32,
     "metadata": {},
     "output_type": "execute_result"
    },
    {
     "data": {
      "image/png": "[encoded data removed]",
      "text/plain": [
       "<Figure size 576x576 with 2 Axes>"
      ]
     },
     "metadata": {
      "needs_background": "light"
     },
     "output_type": "display_data"
    }
   ],
   "source": [
    "conf_mat = confusion_matrix(y_test, y_pred_lr)\n",
    "fig, ax = plt.subplots(figsize=(8,8))\n",
    "sns.heatmap(conf_mat, annot=True, cmap=\"Blues\", fmt='d')\n",
    "plt.ylabel('Actual')\n",
    "plt.xlabel('Predicted')\n",
    "plt.title(\"CONFUSION MATRIX - LinearSVC\\n\", size=16)\n",
    "\n"
   ]
  },
  {
   "cell_type": "markdown",
   "metadata": {},
   "source": [
    "##### Model 2 :  SMOTE  + Support Vector"
   ]
  },
  {
   "cell_type": "code",
   "execution_count": 33,
   "metadata": {},
   "outputs": [],
   "source": [
    "def fit_n_times(model, x_train, y_train, x_test, y_test, n_iters = 10):\n",
    "    metrics = np.zeros(5)\n",
    "    for _ in range(n_iters):\n",
    "        model.fit(x_train, y_train)\n",
    "        y_test_prob = model.predict_proba(x_test)[:,1]\n",
    "        metrics += print_model_metrics(y_test, y_test_prob, verbose = False, return_metrics = True)\n",
    "    metrics /=10\n",
    "    print('F1: {:.3f} | Pr: {:.3f} | Re: {:.3f} | AUC: {:.3f} | Accuracy: {:.3f} \\n'.format(*metrics))"
   ]
  },
  {
   "cell_type": "code",
   "execution_count": 34,
   "metadata": {},
   "outputs": [
    {
     "name": "stdout",
     "output_type": "stream",
     "text": [
      "Best Parameters : {'C': 100, 'degree': 3, 'kernel': 'poly'}\n",
      "Best F1 : 0.39344262295081966\n",
      "F1: 0.394 | Pr: 0.289 | Re: 0.771 | AUC: 0.695 | Accuracy: 0.642 \n",
      "\n"
     ]
    }
   ],
   "source": [
    "from sklearn.svm import SVC\n",
    "\n",
    "svm = SVC(probability = True)\n",
    "svm_params = {'C' : [10**(x) for x in range(-1,4)],\n",
    "             'kernel' : ['poly', 'rbf', 'linear'],\n",
    "             'degree' : [2, 3]}\n",
    "\n",
    "best_params, best_f1 = run_grid_search(svm, svm_params, X, y)\n",
    "\n",
    "print('Best Parameters : {}'.format(best_params))\n",
    "print('Best F1 : {}'.format(best_f1))\n",
    "\n",
    "svm = SVC(C = best_params['C'], kernel = best_params['kernel'], degree = best_params['degree'], probability = True)\n",
    "fit_n_times(svm, X_train_res, y_train_res, x_test_g, y_test)"
   ]
  },
  {
   "cell_type": "code",
   "execution_count": 35,
   "metadata": {},
   "outputs": [],
   "source": [
    "svc_test_prob = svm.predict_proba(x_test_g)[:,1]\n",
    "y_pred_sv = np.where(svc_test_prob>0.5,1,0)"
   ]
  },
  {
   "cell_type": "code",
   "execution_count": 36,
   "metadata": {},
   "outputs": [
    {
     "data": {
      "text/plain": [
       "Text(0.5, 1, 'CONFUSION MATRIX - LinearSVC\\n')"
      ]
     },
     "execution_count": 36,
     "metadata": {},
     "output_type": "execute_result"
    },
    {
     "data": {
      "image/png": "[encoded data removed]",
      "text/plain": [
       "<Figure size 576x576 with 2 Axes>"
      ]
     },
     "metadata": {
      "needs_background": "light"
     },
     "output_type": "display_data"
    }
   ],
   "source": [
    "conf_mat = confusion_matrix(y_test, y_pred_sv)\n",
    "fig, ax = plt.subplots(figsize=(8,8))\n",
    "sns.heatmap(conf_mat, annot=True, cmap=\"Blues\", fmt='d')\n",
    "plt.ylabel('Actual')\n",
    "plt.xlabel('Predicted')\n",
    "plt.title(\"CONFUSION MATRIX - LinearSVC\\n\", size=16)\n"
   ]
  },
  {
   "cell_type": "markdown",
   "metadata": {},
   "source": [
    "##### Model 3. SMOTE + Tuned XGBoost"
   ]
  },
  {
   "cell_type": "code",
   "execution_count": 37,
   "metadata": {},
   "outputs": [
    {
     "name": "stdout",
     "output_type": "stream",
     "text": [
      "Best Parameters : {'learning_rate': 0.2, 'max_depth': 1, 'n_estimators': 10, 'reg_alpha': 0}\n",
      "F1: 0.429 | Pr: 0.370 | Re: 0.588 | AUC: 0.695 | Accuracy: 0.769 \n",
      "\n"
     ]
    }
   ],
   "source": [
    "from xgboost import XGBClassifier\n",
    "\n",
    "xgb = XGBClassifier(n_jobs = -1)\n",
    "\n",
    "xgb_params = { 'n_estimators' : [10, 100, 200, 500], \n",
    "               'max_depth' : [1, 2, 3, 7],\n",
    "               'learning_rate' : [0.1, 0.2, 0.01, 0.3],\n",
    "               'reg_alpha' : [0, 0.1, 0.2]\n",
    "}\n",
    "\n",
    "best_params, best_f1 = run_grid_search(xgb, xgb_params, X, y)\n",
    "\n",
    "print('Best Parameters : {}'.format(best_params))\n",
    "xgb = XGBClassifier(n_estimators = best_params['n_estimators'],\n",
    "                            learning_rate = best_params['learning_rate'],\n",
    "                            max_depth = best_params['max_depth'], \n",
    "                            reg_alpha = best_params['reg_alpha'], \n",
    "                            n_jobs = -1)\n",
    "fit_n_times(xgb, X_train_res, y_train_res, x_test_g, y_test)"
   ]
  },
  {
   "cell_type": "code",
   "execution_count": 38,
   "metadata": {},
   "outputs": [],
   "source": [
    "xgb_test_prob = xgb.predict_proba(x_test_g)[:,1]\n",
    "y_pred_xgb = np.where(xgb_test_prob>0.5,1,0)"
   ]
  },
  {
   "cell_type": "code",
   "execution_count": 39,
   "metadata": {},
   "outputs": [
    {
     "data": {
      "text/plain": [
       "Text(0.5, 1, 'CONFUSION MATRIX - LinearSVC\\n')"
      ]
     },
     "execution_count": 39,
     "metadata": {},
     "output_type": "execute_result"
    },
    {
     "data": {
      "image/png": "[encoded data removed]",
      "text/plain": [
       "<Figure size 576x576 with 2 Axes>"
      ]
     },
     "metadata": {
      "needs_background": "light"
     },
     "output_type": "display_data"
    }
   ],
   "source": [
    "conf_mat = confusion_matrix(y_test, y_pred_xgb)\n",
    "fig, ax = plt.subplots(figsize=(8,8))\n",
    "sns.heatmap(conf_mat, annot=True, cmap=\"Blues\", fmt='d')\n",
    "plt.ylabel('Actual')\n",
    "plt.xlabel('Predicted')\n",
    "plt.title(\"CONFUSION MATRIX - LinearSVC\\n\", size=16)"
   ]
  },
  {
   "cell_type": "markdown",
   "metadata": {},
   "source": [
    "Overall, the Tuned XGBoost Model (Glove + SMOTE) does a really good job at predicting the relevant classes correctly"
   ]
  },
  {
   "cell_type": "code",
   "execution_count": 44,
   "metadata": {},
   "outputs": [],
   "source": [
    "masterdata = pd.read_csv(\"MasterFile.csv\",encoding = 'utf-8')"
   ]
  },
  {
   "cell_type": "code",
   "execution_count": 45,
   "metadata": {},
   "outputs": [
    {
     "data": {
      "text/html": [
       "<div>\n",
       "<style scoped>\n",
       "    .dataframe tbody tr th:only-of-type {\n",
       "        vertical-align: middle;\n",
       "    }\n",
       "\n",
       "    .dataframe tbody tr th {\n",
       "        vertical-align: top;\n",
       "    }\n",
       "\n",
       "    .dataframe thead th {\n",
       "        text-align: right;\n",
       "    }\n",
       "</style>\n",
       "<table border=\"1\" class=\"dataframe\">\n",
       "  <thead>\n",
       "    <tr style=\"text-align: right;\">\n",
       "      <th></th>\n",
       "      <th>Unnamed: 0</th>\n",
       "      <th>Device</th>\n",
       "      <th>Ext URL</th>\n",
       "      <th>FullText</th>\n",
       "      <th>HashTags</th>\n",
       "      <th>Location</th>\n",
       "      <th>Retweet</th>\n",
       "      <th>TimeStamp</th>\n",
       "      <th>TweetID</th>\n",
       "      <th>isQuote</th>\n",
       "    </tr>\n",
       "  </thead>\n",
       "  <tbody>\n",
       "    <tr>\n",
       "      <th>0</th>\n",
       "      <td>0</td>\n",
       "      <td>&lt;a href=\"http://twitter.com/download/android\" ...</td>\n",
       "      <td>[]</td>\n",
       "      <td>@VPrasadMDMPH The twitter account associated w...</td>\n",
       "      <td>[]</td>\n",
       "      <td>Palo Alto, CA</td>\n",
       "      <td>False</td>\n",
       "      <td>Tue Apr 21 01:41:05 +0000 2020</td>\n",
       "      <td>1.252412e+18</td>\n",
       "      <td>False</td>\n",
       "    </tr>\n",
       "    <tr>\n",
       "      <th>1</th>\n",
       "      <td>1</td>\n",
       "      <td>&lt;a href=\"http://twitter.com/download/iphone\" r...</td>\n",
       "      <td>[{'url': 'https://t.co/r8Dok3PtnW', 'expanded_...</td>\n",
       "      <td>Cytokine release syndrome in severe COVID-19 |...</td>\n",
       "      <td>[]</td>\n",
       "      <td>Palo Alto, CA</td>\n",
       "      <td>False</td>\n",
       "      <td>Mon Apr 20 18:37:38 +0000 2020</td>\n",
       "      <td>1.252305e+18</td>\n",
       "      <td>False</td>\n",
       "    </tr>\n",
       "    <tr>\n",
       "      <th>2</th>\n",
       "      <td>2</td>\n",
       "      <td>&lt;a href=\"http://twitter.com/download/android\" ...</td>\n",
       "      <td>[{'url': 'https://t.co/tlxzOinpub', 'expanded_...</td>\n",
       "      <td>#RonDeSantis hides \"crucial information\" about...</td>\n",
       "      <td>['RonDeSantis']</td>\n",
       "      <td>Palo Alto, CA</td>\n",
       "      <td>False</td>\n",
       "      <td>Mon Apr 20 17:37:49 +0000 2020</td>\n",
       "      <td>1.252290e+18</td>\n",
       "      <td>False</td>\n",
       "    </tr>\n",
       "    <tr>\n",
       "      <th>3</th>\n",
       "      <td>3</td>\n",
       "      <td>&lt;a href=\"http://twitter.com/download/iphone\" r...</td>\n",
       "      <td>[]</td>\n",
       "      <td>@CAG_ID_Doc Great discussion about ARDS phenot...</td>\n",
       "      <td>[]</td>\n",
       "      <td>Palo Alto, CA</td>\n",
       "      <td>False</td>\n",
       "      <td>Mon Apr 20 17:17:12 +0000 2020</td>\n",
       "      <td>1.252285e+18</td>\n",
       "      <td>False</td>\n",
       "    </tr>\n",
       "    <tr>\n",
       "      <th>4</th>\n",
       "      <td>4</td>\n",
       "      <td>&lt;a href=\"https://tapbots.com/software/tweetbot...</td>\n",
       "      <td>[{'url': 'https://t.co/B1eb13muVO', 'expanded_...</td>\n",
       "      <td>Super interesting ‘change in mobility’ dashboa...</td>\n",
       "      <td>[]</td>\n",
       "      <td>Palo Alto, CA</td>\n",
       "      <td>False</td>\n",
       "      <td>Mon Apr 20 15:22:58 +0000 2020</td>\n",
       "      <td>1.252256e+18</td>\n",
       "      <td>False</td>\n",
       "    </tr>\n",
       "  </tbody>\n",
       "</table>\n",
       "</div>"
      ],
      "text/plain": [
       "   Unnamed: 0                                             Device  \\\n",
       "0           0  <a href=\"http://twitter.com/download/android\" ...   \n",
       "1           1  <a href=\"http://twitter.com/download/iphone\" r...   \n",
       "2           2  <a href=\"http://twitter.com/download/android\" ...   \n",
       "3           3  <a href=\"http://twitter.com/download/iphone\" r...   \n",
       "4           4  <a href=\"https://tapbots.com/software/tweetbot...   \n",
       "\n",
       "                                             Ext URL  \\\n",
       "0                                                 []   \n",
       "1  [{'url': 'https://t.co/r8Dok3PtnW', 'expanded_...   \n",
       "2  [{'url': 'https://t.co/tlxzOinpub', 'expanded_...   \n",
       "3                                                 []   \n",
       "4  [{'url': 'https://t.co/B1eb13muVO', 'expanded_...   \n",
       "\n",
       "                                            FullText         HashTags  \\\n",
       "0  @VPrasadMDMPH The twitter account associated w...               []   \n",
       "1  Cytokine release syndrome in severe COVID-19 |...               []   \n",
       "2  #RonDeSantis hides \"crucial information\" about...  ['RonDeSantis']   \n",
       "3  @CAG_ID_Doc Great discussion about ARDS phenot...               []   \n",
       "4  Super interesting ‘change in mobility’ dashboa...               []   \n",
       "\n",
       "        Location Retweet                       TimeStamp       TweetID isQuote  \n",
       "0  Palo Alto, CA   False  Tue Apr 21 01:41:05 +0000 2020  1.252412e+18   False  \n",
       "1  Palo Alto, CA   False  Mon Apr 20 18:37:38 +0000 2020  1.252305e+18   False  \n",
       "2  Palo Alto, CA   False  Mon Apr 20 17:37:49 +0000 2020  1.252290e+18   False  \n",
       "3  Palo Alto, CA   False  Mon Apr 20 17:17:12 +0000 2020  1.252285e+18   False  \n",
       "4  Palo Alto, CA   False  Mon Apr 20 15:22:58 +0000 2020  1.252256e+18   False  "
      ]
     },
     "execution_count": 45,
     "metadata": {},
     "output_type": "execute_result"
    }
   ],
   "source": [
    "masterdata.head(5)"
   ]
  },
  {
   "cell_type": "code",
   "execution_count": 46,
   "metadata": {},
   "outputs": [],
   "source": [
    "masterdata['clean_text'] = masterdata['FullText'].apply(lambda x : tweet_cleaner(x))    "
   ]
  },
  {
   "cell_type": "code",
   "execution_count": 48,
   "metadata": {},
   "outputs": [],
   "source": [
    "newdata = scale(np.concatenate([get_w2v_general(z, 200, glove_twitter,'mean') for z in masterdata.clean_text.values]))"
   ]
  },
  {
   "cell_type": "code",
   "execution_count": 49,
   "metadata": {},
   "outputs": [
    {
     "data": {
      "text/plain": [
       "(168626, 200)"
      ]
     },
     "execution_count": 49,
     "metadata": {},
     "output_type": "execute_result"
    }
   ],
   "source": [
    "newdata.shape"
   ]
  },
  {
   "cell_type": "code",
   "execution_count": 53,
   "metadata": {},
   "outputs": [],
   "source": [
    "predictions = pd.DataFrame(xgb.predict(newdata))"
   ]
  },
  {
   "cell_type": "code",
   "execution_count": 54,
   "metadata": {},
   "outputs": [
    {
     "data": {
      "text/plain": [
       "(168626, 1)"
      ]
     },
     "execution_count": 54,
     "metadata": {},
     "output_type": "execute_result"
    }
   ],
   "source": [
    "predictions.shape"
   ]
  },
  {
   "cell_type": "code",
   "execution_count": 92,
   "metadata": {},
   "outputs": [],
   "source": [
    "final_pred = pd.merge(masterdata['FullText'],predictions, left_index = True, right_index = True)"
   ]
  },
  {
   "cell_type": "code",
   "execution_count": 93,
   "metadata": {},
   "outputs": [
    {
     "data": {
      "text/html": [
       "<div>\n",
       "<style scoped>\n",
       "    .dataframe tbody tr th:only-of-type {\n",
       "        vertical-align: middle;\n",
       "    }\n",
       "\n",
       "    .dataframe tbody tr th {\n",
       "        vertical-align: top;\n",
       "    }\n",
       "\n",
       "    .dataframe thead th {\n",
       "        text-align: right;\n",
       "    }\n",
       "</style>\n",
       "<table border=\"1\" class=\"dataframe\">\n",
       "  <thead>\n",
       "    <tr style=\"text-align: right;\">\n",
       "      <th></th>\n",
       "      <th>FullText</th>\n",
       "      <th>0</th>\n",
       "    </tr>\n",
       "  </thead>\n",
       "  <tbody>\n",
       "    <tr>\n",
       "      <th>0</th>\n",
       "      <td>@VPrasadMDMPH The twitter account associated w...</td>\n",
       "      <td>0</td>\n",
       "    </tr>\n",
       "    <tr>\n",
       "      <th>1</th>\n",
       "      <td>Cytokine release syndrome in severe COVID-19 |...</td>\n",
       "      <td>1</td>\n",
       "    </tr>\n",
       "    <tr>\n",
       "      <th>2</th>\n",
       "      <td>#RonDeSantis hides \"crucial information\" about...</td>\n",
       "      <td>1</td>\n",
       "    </tr>\n",
       "    <tr>\n",
       "      <th>3</th>\n",
       "      <td>@CAG_ID_Doc Great discussion about ARDS phenot...</td>\n",
       "      <td>0</td>\n",
       "    </tr>\n",
       "    <tr>\n",
       "      <th>4</th>\n",
       "      <td>Super interesting ‘change in mobility’ dashboa...</td>\n",
       "      <td>0</td>\n",
       "    </tr>\n",
       "    <tr>\n",
       "      <th>5</th>\n",
       "      <td>#Trump and the #gop are actually denying neede...</td>\n",
       "      <td>1</td>\n",
       "    </tr>\n",
       "    <tr>\n",
       "      <th>6</th>\n",
       "      <td>Far more COVID-19 cases in Silicon Valley than...</td>\n",
       "      <td>1</td>\n",
       "    </tr>\n",
       "    <tr>\n",
       "      <th>7</th>\n",
       "      <td>We need tech more than ever, but that doesn't ...</td>\n",
       "      <td>1</td>\n",
       "    </tr>\n",
       "    <tr>\n",
       "      <th>8</th>\n",
       "      <td>https://t.co/e9aut17jma @OxfordJournals @IDSAI...</td>\n",
       "      <td>1</td>\n",
       "    </tr>\n",
       "    <tr>\n",
       "      <th>9</th>\n",
       "      <td>@stlouisfed @CouncilEconEd Sorry but his answe...</td>\n",
       "      <td>0</td>\n",
       "    </tr>\n",
       "    <tr>\n",
       "      <th>10</th>\n",
       "      <td>COVID-19 Antibody Seroprevalence in Santa Clar...</td>\n",
       "      <td>1</td>\n",
       "    </tr>\n",
       "    <tr>\n",
       "      <th>11</th>\n",
       "      <td>@baseballchickie Did someone offer death by bo...</td>\n",
       "      <td>0</td>\n",
       "    </tr>\n",
       "    <tr>\n",
       "      <th>12</th>\n",
       "      <td>Much needed: ⁦@Roche⁩ develops serology test t...</td>\n",
       "      <td>0</td>\n",
       "    </tr>\n",
       "    <tr>\n",
       "      <th>13</th>\n",
       "      <td>@jeapresident I’d like to thank @bradleywilson...</td>\n",
       "      <td>0</td>\n",
       "    </tr>\n",
       "    <tr>\n",
       "      <th>14</th>\n",
       "      <td>There is a reason #Greed is a #DeadlySin.\\n💰🤑💰...</td>\n",
       "      <td>0</td>\n",
       "    </tr>\n",
       "  </tbody>\n",
       "</table>\n",
       "</div>"
      ],
      "text/plain": [
       "                                             FullText  0\n",
       "0   @VPrasadMDMPH The twitter account associated w...  0\n",
       "1   Cytokine release syndrome in severe COVID-19 |...  1\n",
       "2   #RonDeSantis hides \"crucial information\" about...  1\n",
       "3   @CAG_ID_Doc Great discussion about ARDS phenot...  0\n",
       "4   Super interesting ‘change in mobility’ dashboa...  0\n",
       "5   #Trump and the #gop are actually denying neede...  1\n",
       "6   Far more COVID-19 cases in Silicon Valley than...  1\n",
       "7   We need tech more than ever, but that doesn't ...  1\n",
       "8   https://t.co/e9aut17jma @OxfordJournals @IDSAI...  1\n",
       "9   @stlouisfed @CouncilEconEd Sorry but his answe...  0\n",
       "10  COVID-19 Antibody Seroprevalence in Santa Clar...  1\n",
       "11  @baseballchickie Did someone offer death by bo...  0\n",
       "12  Much needed: ⁦@Roche⁩ develops serology test t...  0\n",
       "13  @jeapresident I’d like to thank @bradleywilson...  0\n",
       "14  There is a reason #Greed is a #DeadlySin.\\n💰🤑💰...  0"
      ]
     },
     "execution_count": 93,
     "metadata": {},
     "output_type": "execute_result"
    }
   ],
   "source": [
    "final_pred.head(15)"
   ]
  },
  {
   "cell_type": "code",
   "execution_count": 94,
   "metadata": {},
   "outputs": [
    {
     "data": {
      "text/plain": [
       "(168626, 2)"
      ]
     },
     "execution_count": 94,
     "metadata": {},
     "output_type": "execute_result"
    }
   ],
   "source": [
    "final_pred.shape"
   ]
  },
  {
   "cell_type": "code",
   "execution_count": 95,
   "metadata": {},
   "outputs": [],
   "source": [
    "final_pred.columns = ['Tweet','Prediction']"
   ]
  },
  {
   "cell_type": "code",
   "execution_count": 96,
   "metadata": {},
   "outputs": [],
   "source": [
    "def annotate_label(x):\n",
    "    pred = ''\n",
    "    if x == 1:\n",
    "        pred = \"Relevant\"\n",
    "    else:\n",
    "        pred = \"Irrelevant\"\n",
    "    return(pred)"
   ]
  },
  {
   "cell_type": "code",
   "execution_count": 103,
   "metadata": {},
   "outputs": [],
   "source": [
    "final_pred['PredictedLabels'] = final_pred['Prediction'].apply(lambda x : annotate_label(x))"
   ]
  },
  {
   "cell_type": "code",
   "execution_count": 104,
   "metadata": {},
   "outputs": [
    {
     "data": {
      "text/html": [
       "<div>\n",
       "<style scoped>\n",
       "    .dataframe tbody tr th:only-of-type {\n",
       "        vertical-align: middle;\n",
       "    }\n",
       "\n",
       "    .dataframe tbody tr th {\n",
       "        vertical-align: top;\n",
       "    }\n",
       "\n",
       "    .dataframe thead th {\n",
       "        text-align: right;\n",
       "    }\n",
       "</style>\n",
       "<table border=\"1\" class=\"dataframe\">\n",
       "  <thead>\n",
       "    <tr style=\"text-align: right;\">\n",
       "      <th></th>\n",
       "      <th>Tweet</th>\n",
       "      <th>Prediction</th>\n",
       "      <th>PredictedLabels</th>\n",
       "    </tr>\n",
       "  </thead>\n",
       "  <tbody>\n",
       "    <tr>\n",
       "      <th>0</th>\n",
       "      <td>@VPrasadMDMPH The twitter account associated w...</td>\n",
       "      <td>0</td>\n",
       "      <td>Irrelevant</td>\n",
       "    </tr>\n",
       "    <tr>\n",
       "      <th>1</th>\n",
       "      <td>Cytokine release syndrome in severe COVID-19 |...</td>\n",
       "      <td>1</td>\n",
       "      <td>Relevant</td>\n",
       "    </tr>\n",
       "    <tr>\n",
       "      <th>2</th>\n",
       "      <td>#RonDeSantis hides \"crucial information\" about...</td>\n",
       "      <td>1</td>\n",
       "      <td>Relevant</td>\n",
       "    </tr>\n",
       "  </tbody>\n",
       "</table>\n",
       "</div>"
      ],
      "text/plain": [
       "                                               Tweet  Prediction  \\\n",
       "0  @VPrasadMDMPH The twitter account associated w...           0   \n",
       "1  Cytokine release syndrome in severe COVID-19 |...           1   \n",
       "2  #RonDeSantis hides \"crucial information\" about...           1   \n",
       "\n",
       "  PredictedLabels  \n",
       "0      Irrelevant  \n",
       "1        Relevant  \n",
       "2        Relevant  "
      ]
     },
     "execution_count": 104,
     "metadata": {},
     "output_type": "execute_result"
    }
   ],
   "source": [
    "final_pred.head(3)"
   ]
  },
  {
   "cell_type": "code",
   "execution_count": 105,
   "metadata": {},
   "outputs": [],
   "source": [
    "final_pred.drop(['Prediction'], axis = 1, inplace = True)"
   ]
  },
  {
   "cell_type": "code",
   "execution_count": 106,
   "metadata": {},
   "outputs": [],
   "source": [
    "final_pred.to_csv('Predicted_Master.csv',encoding = 'utf-8',index = False)"
   ]
  }
 ],
 "metadata": {
  "kernelspec": {
   "display_name": "Python 3",
   "language": "python",
   "name": "python3"
  },
  "language_info": {
   "codemirror_mode": {
    "name": "ipython",
    "version": 3
   },
   "file_extension": ".py",
   "mimetype": "text/x-python",
   "name": "python",
   "nbconvert_exporter": "python",
   "pygments_lexer": "ipython3",
   "version": "3.7.3"
  }
 },
 "nbformat": 4,
 "nbformat_minor": 2
}
